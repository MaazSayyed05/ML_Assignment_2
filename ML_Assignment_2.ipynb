{
 "cells": [
  {
   "cell_type": "code",
   "execution_count": 3,
   "id": "35168cbd-63c0-44cc-82c7-c9bdb4d8e868",
   "metadata": {},
   "outputs": [],
   "source": [
    "# Q1\n",
    "# Overfitting--> The accuracy of model for training dataset is high and that for testing dataset is low.\n",
    "# Underfitting--> The accuracy for both trainign and testing dataste is low."
   ]
  },
  {
   "cell_type": "code",
   "execution_count": 14,
   "id": "d5617436-1c93-48bf-999e-f7bd60b46938",
   "metadata": {},
   "outputs": [],
   "source": [
    "# Q2\n",
    "# --> Some ways that can reduce overfitting\n",
    "# 1. Training with moer data.\n",
    "# 2. Addition of noise input data.\n",
    "# 3. Data Augmentaion\n",
    "# 4. Feature Selection\n",
    "# 5. Cross-Validation\n",
    "# 6. Regularization"
   ]
  },
  {
   "cell_type": "code",
   "execution_count": 9,
   "id": "addff2f1-f186-44bf-b7cf-eb8d530b7b7a",
   "metadata": {},
   "outputs": [],
   "source": [
    "# Q3\n",
    "# Undefitting--> The accuracy for both trainign and testing dataste is low.\n",
    "# Scenarios--> \n",
    "# 1. Unclean training data containing noise or outliers can be a reason for the model not being able to derive patterns from the dataset.\n",
    "# 2. The model has a high bias due to the inability to capture the relationship between the input examples and the target values. \n",
    "# 3. The model is assumed to be too simple. For example, training a linear model in complex scenarios."
   ]
  },
  {
   "cell_type": "code",
   "execution_count": null,
   "id": "d9ece70d-92a8-443c-a59b-6393609f5910",
   "metadata": {},
   "outputs": [],
   "source": [
    "# Q4\n",
    "# Bias--> The tendency of model to make systematic errors.\n",
    "# Variance--> The tendency of model to make random errors.\n",
    "# Bias and variance are complements of each other” The increase of one will result in the decrease of the other and vice versa. Hence, finding the right balance of values is known as the Bias-Variance Tradeoff. \n",
    "# Target Function--> An ideal algorithm should neither underfit nor overfit the data.\n",
    "# "
   ]
  },
  {
   "cell_type": "code",
   "execution_count": 10,
   "id": "be38fe94-f797-4e74-9371-c3dbddf3a648",
   "metadata": {},
   "outputs": [],
   "source": [
    "# Q5\n",
    "# Methods to detect overfitting of a model:\n",
    "# 1. Detecting overfitting is technically not possible unless we test the data.# 2. The model has a high variance.\n",
    "# 2. Segmentation of dataset.\n",
    "# 3. K-fold cross-validation is one of the most popular techniques commonly used to detect overfitting. \n",
    "\n",
    "# Methods to detetc undefitting of model:\n",
    "# 1. Increase the number of features in the dataset.\n",
    "# 2. Increase model complexity.\n",
    "# 3. Reduce noise in the data.\n",
    "# 4. Increase the duration of training the data."
   ]
  },
  {
   "cell_type": "code",
   "execution_count": 11,
   "id": "49e9cb11-e463-4284-b046-b653dec88afa",
   "metadata": {},
   "outputs": [],
   "source": [
    "# Q6\n",
    "# # Bias--> The tendency of model to make systematic errors.\n",
    "# Variance--> The tendency of model to make random errors.\n",
    "# Examples of High Bias and High Variance Models:\n",
    "# Linear Regression, Linear Discriminant Analysis and Logistic Regression.\n",
    "# High Variance will reduce the accuracy of model for testing dataset and High Bias mean model will not peroperly. "
   ]
  },
  {
   "cell_type": "code",
   "execution_count": 13,
   "id": "b1a99215-2aa1-48fc-812e-5e32ab59a89c",
   "metadata": {},
   "outputs": [],
   "source": [
    "# Q7\n",
    "# Regularization\n",
    "# 1. If overfitting occurs when a model is too complex, reducing the number of features makes sense. \n",
    "# 2. Regularization methods like Lasso, L1 can be beneficial if we do not know which features to remove from our model. \n",
    "# 3. Regularization applies a \"penalty\" to the input parameters with the larger coefficients, which subsequently limits the model's variance. "
   ]
  },
  {
   "cell_type": "code",
   "execution_count": null,
   "id": "a3646992-7fa3-4e76-b599-21f2f0b89bbe",
   "metadata": {},
   "outputs": [],
   "source": []
  }
 ],
 "metadata": {
  "kernelspec": {
   "display_name": "Python 3 (ipykernel)",
   "language": "python",
   "name": "python3"
  },
  "language_info": {
   "codemirror_mode": {
    "name": "ipython",
    "version": 3
   },
   "file_extension": ".py",
   "mimetype": "text/x-python",
   "name": "python",
   "nbconvert_exporter": "python",
   "pygments_lexer": "ipython3",
   "version": "3.10.8"
  }
 },
 "nbformat": 4,
 "nbformat_minor": 5
}
